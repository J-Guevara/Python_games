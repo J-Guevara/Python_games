{
  "nbformat": 4,
  "nbformat_minor": 0,
  "metadata": {
    "colab": {
      "name": "Can the computer guess your number?.ipynb",
      "provenance": [],
      "collapsed_sections": [],
      "authorship_tag": "ABX9TyMnB+pTZM8dsksYKZGuIgS7",
      "include_colab_link": true
    },
    "kernelspec": {
      "name": "python3",
      "display_name": "Python 3"
    },
    "language_info": {
      "name": "python"
    }
  },
  "cells": [
    {
      "cell_type": "markdown",
      "metadata": {
        "id": "view-in-github",
        "colab_type": "text"
      },
      "source": [
        "<a href=\"https://colab.research.google.com/github/J-Guevara/Python_games/blob/main/Can_the_computer_guess_your_number%3F.ipynb\" target=\"_parent\"><img src=\"https://colab.research.google.com/assets/colab-badge.svg\" alt=\"Open In Colab\"/></a>"
      ]
    },
    {
      "cell_type": "markdown",
      "metadata": {
        "id": "yPHxNt9VtGka"
      },
      "source": [
        "# Let the computer guess your number!"
      ]
    },
    {
      "cell_type": "code",
      "metadata": {
        "id": "tPhdFaNMlORH"
      },
      "source": [
        "import random"
      ],
      "execution_count": null,
      "outputs": []
    },
    {
      "cell_type": "code",
      "metadata": {
        "colab": {
          "base_uri": "https://localhost:8080/"
        },
        "id": "mjxWmx0mlaX4",
        "outputId": "e87c9b7a-7d1a-40b5-b821-dd1f42e17351"
      },
      "source": [
        "def guess(x):\n",
        "    random_number = random.randint(1,x)\n",
        "    guess = 0\n",
        "    while guess != random_number:\n",
        "        guess = int(input(f'Guess a number between 1 and {x}: '))\n",
        "        if guess < random_number:\n",
        "            print('Sorry, guess again. Too low')\n",
        "        elif guess > random_number:\n",
        "            print('Sorry, guess again. Too high.')\n",
        "    print(f\"Yay, congrats. you have guessed the number {random_number}\", 'correctly!')\n",
        "\n",
        "def computer_guess(x):\n",
        "    low = 1\n",
        "    high = x\n",
        "    feedback = ''\n",
        "    while feedback != 'c':\n",
        "        if low != high:\n",
        "           guess = random.randint(low, high)\n",
        "        else:\n",
        "           guess = low\n",
        "        feedback = input(f'Is {guess} too high (H), too low (L), or Correct (C) ').lower()\n",
        "        if feedback == 'h':\n",
        "           high = guess - 1\n",
        "        elif feedback == 'l':\n",
        "           low = guess + 1\n",
        "    print(f'Yay! The computer guessed your number, {guess}, correctly!')\n",
        "computer_guess(10)"
      ],
      "execution_count": null,
      "outputs": [
        {
          "output_type": "stream",
          "name": "stdout",
          "text": [
            "Is 6 too high (H), too low (L), or Correct (C) h\n",
            "Is 1 too high (H), too low (L), or Correct (C) l\n",
            "Is 3 too high (H), too low (L), or Correct (C) l\n",
            "Is 5 too high (H), too low (L), or Correct (C) h\n",
            "Is 4 too high (H), too low (L), or Correct (C) c\n",
            "Yay! The computer guessed your number, 4, correctly!\n"
          ]
        }
      ]
    }
  ]
}